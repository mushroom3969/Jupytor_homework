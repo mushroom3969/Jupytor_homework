{
 "cells": [
  {
   "cell_type": "markdown",
   "id": "0c80f67a-e1a1-47f5-909a-5d9f8782e67d",
   "metadata": {},
   "source": [
    "<h1><font color = #FF7878>Data Science Tools and Ecosystem</font><h1>\n",
    "    \n",
    "### In this notebook, Data Science Tools and Ecosystem are summarized."
   ]
  },
  {
   "cell_type": "markdown",
   "id": "aade3843-7112-4bba-9e00-14a153d317c2",
   "metadata": {},
   "source": [
    "<b>Objectives:</b>\n",
    "\n",
    "    -List popular languages for Data Science\n",
    "    -List commonly used libraries for Data Science\n",
    "    -List popular IDEs for Data Science "
   ]
  },
  {
   "cell_type": "markdown",
   "id": "01de4a87-2615-4a7d-9957-fc20c69d89d6",
   "metadata": {
    "tags": []
   },
   "source": [
    "Some of the popular languages that Data Scientists use are:"
   ]
  },
  {
   "cell_type": "markdown",
   "id": "bef29fe5-6cd6-4f77-a8d4-f717b5e9b061",
   "metadata": {},
   "source": [
    "    1. Python\n",
    "    2. R\n",
    "    3. SQL\n",
    "    "
   ]
  },
  {
   "cell_type": "markdown",
   "id": "4f53339c-1ba4-4507-b207-ad9d96b2b12e",
   "metadata": {},
   "source": [
    "Some of the commonly used libraries used by Data Scientists include:"
   ]
  },
  {
   "cell_type": "markdown",
   "id": "98057d59-2a22-4e6c-aa64-9a9d14f2986d",
   "metadata": {},
   "source": [
    "    1.Tensorflow\n",
    "    2.Numpy\n",
    "    3.Pnadas\n",
    "    "
   ]
  },
  {
   "cell_type": "markdown",
   "id": "9e596129-f201-4c86-a52c-d76a964a7016",
   "metadata": {},
   "source": [
    "\n",
    "|Data Science Tools|\n",
    "| --- |\n",
    "|JupyterLab Notebook|\n",
    "|Visual Studio|\n",
    "|Google Colab|"
   ]
  },
  {
   "cell_type": "markdown",
   "id": "e57682c4-3201-4aae-a82e-5c5f2fffee98",
   "metadata": {},
   "source": [
    "<h3>Below are a few examples of evaluating arithmetic expressions in Python<h3>"
   ]
  },
  {
   "cell_type": "code",
   "execution_count": 4,
   "id": "fa75591b-59d4-4f89-b596-edf49661994b",
   "metadata": {},
   "outputs": [
    {
     "data": {
      "text/plain": [
       "17"
      ]
     },
     "execution_count": 4,
     "metadata": {},
     "output_type": "execute_result"
    }
   ],
   "source": [
    "(3*4)+5 #This a simple arithmetic expression to mutiply then add integers"
   ]
  },
  {
   "cell_type": "code",
   "execution_count": 10,
   "id": "7a0c0579-e1cd-4291-a2b6-ce890fc2fbf7",
   "metadata": {},
   "outputs": [
    {
     "name": "stdout",
     "output_type": "stream",
     "text": [
      "3.3333333333333335 hours\n"
     ]
    }
   ],
   "source": [
    "def min_to_hour(mins): #This will convert 200 minutes to hours by diving by 60\n",
    "    return mins/60\n",
    "print(min_to_hour(200),'hours')"
   ]
  },
  {
   "cell_type": "markdown",
   "id": "5867ff2d-b60d-4c37-bbf7-f1a6a283d48e",
   "metadata": {},
   "source": [
    "<h2>Author </h2>\n",
    "    \n",
    "    洪瑞廷（Tim Hong)"
   ]
  },
  {
   "cell_type": "code",
   "execution_count": null,
   "id": "c23789c6-89ae-43c4-9632-d3e15c0e9f9b",
   "metadata": {},
   "outputs": [],
   "source": []
  }
 ],
 "metadata": {
  "kernelspec": {
   "display_name": "Python 3 (ipykernel)",
   "language": "python",
   "name": "python3"
  },
  "language_info": {
   "codemirror_mode": {
    "name": "ipython",
    "version": 3
   },
   "file_extension": ".py",
   "mimetype": "text/x-python",
   "name": "python",
   "nbconvert_exporter": "python",
   "pygments_lexer": "ipython3",
   "version": "3.10.11"
  }
 },
 "nbformat": 4,
 "nbformat_minor": 5
}
